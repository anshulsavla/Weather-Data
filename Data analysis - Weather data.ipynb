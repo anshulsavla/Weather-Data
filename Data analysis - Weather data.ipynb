{
 "cells": [
  {
   "cell_type": "code",
   "execution_count": 2,
   "metadata": {},
   "outputs": [],
   "source": [
    "import numpy as np\n",
    "import pandas as pd\n",
    "import matplotlib.pyplot as plt\n",
    "import seaborn as sns"
   ]
  },
  {
   "cell_type": "code",
   "execution_count": 3,
   "metadata": {},
   "outputs": [],
   "source": [
    "df = pd.read_excel(\"Assignment_dataset.xlsx\")"
   ]
  },
  {
   "cell_type": "code",
   "execution_count": 4,
   "metadata": {},
   "outputs": [
    {
     "data": {
      "text/html": [
       "<div>\n",
       "<style scoped>\n",
       "    .dataframe tbody tr th:only-of-type {\n",
       "        vertical-align: middle;\n",
       "    }\n",
       "\n",
       "    .dataframe tbody tr th {\n",
       "        vertical-align: top;\n",
       "    }\n",
       "\n",
       "    .dataframe thead th {\n",
       "        text-align: right;\n",
       "    }\n",
       "</style>\n",
       "<table border=\"1\" class=\"dataframe\">\n",
       "  <thead>\n",
       "    <tr style=\"text-align: right;\">\n",
       "      <th></th>\n",
       "      <th>Date</th>\n",
       "      <th>GHI</th>\n",
       "      <th>PR</th>\n",
       "    </tr>\n",
       "  </thead>\n",
       "  <tbody>\n",
       "    <tr>\n",
       "      <th>0</th>\n",
       "      <td>2019-07-01</td>\n",
       "      <td>3.256608</td>\n",
       "      <td>69.575676</td>\n",
       "    </tr>\n",
       "    <tr>\n",
       "      <th>1</th>\n",
       "      <td>2019-07-02</td>\n",
       "      <td>3.976767</td>\n",
       "      <td>79.314411</td>\n",
       "    </tr>\n",
       "    <tr>\n",
       "      <th>2</th>\n",
       "      <td>2019-07-03</td>\n",
       "      <td>2.811867</td>\n",
       "      <td>61.020006</td>\n",
       "    </tr>\n",
       "    <tr>\n",
       "      <th>3</th>\n",
       "      <td>2019-07-04</td>\n",
       "      <td>3.658408</td>\n",
       "      <td>83.262576</td>\n",
       "    </tr>\n",
       "    <tr>\n",
       "      <th>4</th>\n",
       "      <td>2019-07-05</td>\n",
       "      <td>5.590683</td>\n",
       "      <td>82.124440</td>\n",
       "    </tr>\n",
       "  </tbody>\n",
       "</table>\n",
       "</div>"
      ],
      "text/plain": [
       "        Date       GHI         PR\n",
       "0 2019-07-01  3.256608  69.575676\n",
       "1 2019-07-02  3.976767  79.314411\n",
       "2 2019-07-03  2.811867  61.020006\n",
       "3 2019-07-04  3.658408  83.262576\n",
       "4 2019-07-05  5.590683  82.124440"
      ]
     },
     "execution_count": 4,
     "metadata": {},
     "output_type": "execute_result"
    }
   ],
   "source": [
    "df.head()"
   ]
  },
  {
   "cell_type": "code",
   "execution_count": 5,
   "metadata": {},
   "outputs": [
    {
     "data": {
      "text/plain": [
       "Date    0\n",
       "GHI     0\n",
       "PR      0\n",
       "dtype: int64"
      ]
     },
     "execution_count": 5,
     "metadata": {},
     "output_type": "execute_result"
    }
   ],
   "source": [
    "df.isnull().sum()"
   ]
  },
  {
   "cell_type": "code",
   "execution_count": 6,
   "metadata": {},
   "outputs": [
    {
     "data": {
      "text/plain": [
       "(982, 3)"
      ]
     },
     "execution_count": 6,
     "metadata": {},
     "output_type": "execute_result"
    }
   ],
   "source": [
    "df.shape"
   ]
  },
  {
   "cell_type": "code",
   "execution_count": 7,
   "metadata": {},
   "outputs": [
    {
     "data": {
      "text/html": [
       "<div>\n",
       "<style scoped>\n",
       "    .dataframe tbody tr th:only-of-type {\n",
       "        vertical-align: middle;\n",
       "    }\n",
       "\n",
       "    .dataframe tbody tr th {\n",
       "        vertical-align: top;\n",
       "    }\n",
       "\n",
       "    .dataframe thead th {\n",
       "        text-align: right;\n",
       "    }\n",
       "</style>\n",
       "<table border=\"1\" class=\"dataframe\">\n",
       "  <thead>\n",
       "    <tr style=\"text-align: right;\">\n",
       "      <th></th>\n",
       "      <th>GHI</th>\n",
       "      <th>PR</th>\n",
       "    </tr>\n",
       "  </thead>\n",
       "  <tbody>\n",
       "    <tr>\n",
       "      <th>count</th>\n",
       "      <td>982.000000</td>\n",
       "      <td>982.000000</td>\n",
       "    </tr>\n",
       "    <tr>\n",
       "      <th>mean</th>\n",
       "      <td>4.644365</td>\n",
       "      <td>72.736197</td>\n",
       "    </tr>\n",
       "    <tr>\n",
       "      <th>std</th>\n",
       "      <td>1.015613</td>\n",
       "      <td>7.300572</td>\n",
       "    </tr>\n",
       "    <tr>\n",
       "      <th>min</th>\n",
       "      <td>1.413825</td>\n",
       "      <td>60.023886</td>\n",
       "    </tr>\n",
       "    <tr>\n",
       "      <th>25%</th>\n",
       "      <td>4.040750</td>\n",
       "      <td>66.319982</td>\n",
       "    </tr>\n",
       "    <tr>\n",
       "      <th>50%</th>\n",
       "      <td>4.752150</td>\n",
       "      <td>72.931286</td>\n",
       "    </tr>\n",
       "    <tr>\n",
       "      <th>75%</th>\n",
       "      <td>5.323263</td>\n",
       "      <td>79.124728</td>\n",
       "    </tr>\n",
       "    <tr>\n",
       "      <th>max</th>\n",
       "      <td>6.947317</td>\n",
       "      <td>84.980120</td>\n",
       "    </tr>\n",
       "  </tbody>\n",
       "</table>\n",
       "</div>"
      ],
      "text/plain": [
       "              GHI          PR\n",
       "count  982.000000  982.000000\n",
       "mean     4.644365   72.736197\n",
       "std      1.015613    7.300572\n",
       "min      1.413825   60.023886\n",
       "25%      4.040750   66.319982\n",
       "50%      4.752150   72.931286\n",
       "75%      5.323263   79.124728\n",
       "max      6.947317   84.980120"
      ]
     },
     "execution_count": 7,
     "metadata": {},
     "output_type": "execute_result"
    }
   ],
   "source": [
    "df.describe()"
   ]
  },
  {
   "cell_type": "code",
   "execution_count": 8,
   "metadata": {},
   "outputs": [],
   "source": [
    "def num(df):\n",
    "    if df['GHI']<2:\n",
    "        return 0\n",
    "    elif df['GHI']>=2 and df['GHI']<4:\n",
    "        return 1\n",
    "    elif df['GHI']>=4 and df['GHI']<6:\n",
    "        return 2\n",
    "    else:\n",
    "        return 3\n",
    "df['GHI_bins']=df.apply(num,axis=1)"
   ]
  },
  {
   "cell_type": "code",
   "execution_count": 9,
   "metadata": {},
   "outputs": [
    {
     "data": {
      "text/html": [
       "<div>\n",
       "<style scoped>\n",
       "    .dataframe tbody tr th:only-of-type {\n",
       "        vertical-align: middle;\n",
       "    }\n",
       "\n",
       "    .dataframe tbody tr th {\n",
       "        vertical-align: top;\n",
       "    }\n",
       "\n",
       "    .dataframe thead th {\n",
       "        text-align: right;\n",
       "    }\n",
       "</style>\n",
       "<table border=\"1\" class=\"dataframe\">\n",
       "  <thead>\n",
       "    <tr style=\"text-align: right;\">\n",
       "      <th></th>\n",
       "      <th>Date</th>\n",
       "      <th>GHI</th>\n",
       "      <th>PR</th>\n",
       "      <th>GHI_bins</th>\n",
       "    </tr>\n",
       "  </thead>\n",
       "  <tbody>\n",
       "    <tr>\n",
       "      <th>0</th>\n",
       "      <td>2019-07-01</td>\n",
       "      <td>3.256608</td>\n",
       "      <td>69.575676</td>\n",
       "      <td>1</td>\n",
       "    </tr>\n",
       "    <tr>\n",
       "      <th>1</th>\n",
       "      <td>2019-07-02</td>\n",
       "      <td>3.976767</td>\n",
       "      <td>79.314411</td>\n",
       "      <td>1</td>\n",
       "    </tr>\n",
       "    <tr>\n",
       "      <th>2</th>\n",
       "      <td>2019-07-03</td>\n",
       "      <td>2.811867</td>\n",
       "      <td>61.020006</td>\n",
       "      <td>1</td>\n",
       "    </tr>\n",
       "    <tr>\n",
       "      <th>3</th>\n",
       "      <td>2019-07-04</td>\n",
       "      <td>3.658408</td>\n",
       "      <td>83.262576</td>\n",
       "      <td>1</td>\n",
       "    </tr>\n",
       "    <tr>\n",
       "      <th>4</th>\n",
       "      <td>2019-07-05</td>\n",
       "      <td>5.590683</td>\n",
       "      <td>82.124440</td>\n",
       "      <td>2</td>\n",
       "    </tr>\n",
       "  </tbody>\n",
       "</table>\n",
       "</div>"
      ],
      "text/plain": [
       "        Date       GHI         PR  GHI_bins\n",
       "0 2019-07-01  3.256608  69.575676         1\n",
       "1 2019-07-02  3.976767  79.314411         1\n",
       "2 2019-07-03  2.811867  61.020006         1\n",
       "3 2019-07-04  3.658408  83.262576         1\n",
       "4 2019-07-05  5.590683  82.124440         2"
      ]
     },
     "execution_count": 9,
     "metadata": {},
     "output_type": "execute_result"
    }
   ],
   "source": [
    "df.head()"
   ]
  },
  {
   "cell_type": "code",
   "execution_count": 10,
   "metadata": {},
   "outputs": [],
   "source": [
    "df['PR_30'] = df['PR'].rolling(30).mean()"
   ]
  },
  {
   "cell_type": "code",
   "execution_count": 11,
   "metadata": {},
   "outputs": [
    {
     "data": {
      "text/html": [
       "<div>\n",
       "<style scoped>\n",
       "    .dataframe tbody tr th:only-of-type {\n",
       "        vertical-align: middle;\n",
       "    }\n",
       "\n",
       "    .dataframe tbody tr th {\n",
       "        vertical-align: top;\n",
       "    }\n",
       "\n",
       "    .dataframe thead th {\n",
       "        text-align: right;\n",
       "    }\n",
       "</style>\n",
       "<table border=\"1\" class=\"dataframe\">\n",
       "  <thead>\n",
       "    <tr style=\"text-align: right;\">\n",
       "      <th></th>\n",
       "      <th>Date</th>\n",
       "      <th>GHI</th>\n",
       "      <th>PR</th>\n",
       "      <th>GHI_bins</th>\n",
       "      <th>PR_30</th>\n",
       "    </tr>\n",
       "  </thead>\n",
       "  <tbody>\n",
       "    <tr>\n",
       "      <th>0</th>\n",
       "      <td>2019-07-01</td>\n",
       "      <td>3.256608</td>\n",
       "      <td>69.575676</td>\n",
       "      <td>1</td>\n",
       "      <td>NaN</td>\n",
       "    </tr>\n",
       "    <tr>\n",
       "      <th>1</th>\n",
       "      <td>2019-07-02</td>\n",
       "      <td>3.976767</td>\n",
       "      <td>79.314411</td>\n",
       "      <td>1</td>\n",
       "      <td>NaN</td>\n",
       "    </tr>\n",
       "    <tr>\n",
       "      <th>2</th>\n",
       "      <td>2019-07-03</td>\n",
       "      <td>2.811867</td>\n",
       "      <td>61.020006</td>\n",
       "      <td>1</td>\n",
       "      <td>NaN</td>\n",
       "    </tr>\n",
       "    <tr>\n",
       "      <th>3</th>\n",
       "      <td>2019-07-04</td>\n",
       "      <td>3.658408</td>\n",
       "      <td>83.262576</td>\n",
       "      <td>1</td>\n",
       "      <td>NaN</td>\n",
       "    </tr>\n",
       "    <tr>\n",
       "      <th>4</th>\n",
       "      <td>2019-07-05</td>\n",
       "      <td>5.590683</td>\n",
       "      <td>82.124440</td>\n",
       "      <td>2</td>\n",
       "      <td>NaN</td>\n",
       "    </tr>\n",
       "  </tbody>\n",
       "</table>\n",
       "</div>"
      ],
      "text/plain": [
       "        Date       GHI         PR  GHI_bins  PR_30\n",
       "0 2019-07-01  3.256608  69.575676         1    NaN\n",
       "1 2019-07-02  3.976767  79.314411         1    NaN\n",
       "2 2019-07-03  2.811867  61.020006         1    NaN\n",
       "3 2019-07-04  3.658408  83.262576         1    NaN\n",
       "4 2019-07-05  5.590683  82.124440         2    NaN"
      ]
     },
     "execution_count": 11,
     "metadata": {},
     "output_type": "execute_result"
    }
   ],
   "source": [
    "df.head()"
   ]
  },
  {
   "cell_type": "code",
   "execution_count": 12,
   "metadata": {},
   "outputs": [],
   "source": [
    "df['Date'] = pd.to_datetime(df['Date'],format='%Y%m%d')\n",
    "df['Year'] = pd.DatetimeIndex(df['Date']).year"
   ]
  },
  {
   "cell_type": "code",
   "execution_count": 13,
   "metadata": {},
   "outputs": [],
   "source": [
    "df['Month'] = pd.DatetimeIndex(df['Date']).month"
   ]
  },
  {
   "cell_type": "code",
   "execution_count": 14,
   "metadata": {},
   "outputs": [],
   "source": [
    "df['date'] = pd.DatetimeIndex(df['Date']).day"
   ]
  },
  {
   "cell_type": "code",
   "execution_count": 15,
   "metadata": {},
   "outputs": [
    {
     "data": {
      "text/html": [
       "<div>\n",
       "<style scoped>\n",
       "    .dataframe tbody tr th:only-of-type {\n",
       "        vertical-align: middle;\n",
       "    }\n",
       "\n",
       "    .dataframe tbody tr th {\n",
       "        vertical-align: top;\n",
       "    }\n",
       "\n",
       "    .dataframe thead th {\n",
       "        text-align: right;\n",
       "    }\n",
       "</style>\n",
       "<table border=\"1\" class=\"dataframe\">\n",
       "  <thead>\n",
       "    <tr style=\"text-align: right;\">\n",
       "      <th></th>\n",
       "      <th>Date</th>\n",
       "      <th>GHI</th>\n",
       "      <th>PR</th>\n",
       "      <th>GHI_bins</th>\n",
       "      <th>PR_30</th>\n",
       "      <th>Year</th>\n",
       "      <th>Month</th>\n",
       "      <th>date</th>\n",
       "    </tr>\n",
       "  </thead>\n",
       "  <tbody>\n",
       "    <tr>\n",
       "      <th>701</th>\n",
       "      <td>2021-06-01</td>\n",
       "      <td>6.520442</td>\n",
       "      <td>66.669652</td>\n",
       "      <td>3</td>\n",
       "      <td>72.135612</td>\n",
       "      <td>2021</td>\n",
       "      <td>6</td>\n",
       "      <td>1</td>\n",
       "    </tr>\n",
       "  </tbody>\n",
       "</table>\n",
       "</div>"
      ],
      "text/plain": [
       "          Date       GHI         PR  GHI_bins      PR_30  Year  Month  date\n",
       "701 2021-06-01  6.520442  66.669652         3  72.135612  2021      6     1"
      ]
     },
     "execution_count": 15,
     "metadata": {},
     "output_type": "execute_result"
    }
   ],
   "source": [
    "df[df['Date']=='2021-06-01']"
   ]
  },
  {
   "cell_type": "code",
   "execution_count": 16,
   "metadata": {},
   "outputs": [],
   "source": [
    "def date(df):\n",
    "    if df['Month']==1:\n",
    "        return 'Jan'\n",
    "    elif df['Month']==2:\n",
    "        return 'Feb'\n",
    "    elif df['Month']==3:\n",
    "        return 'Mar'\n",
    "    elif df['Month']==4:\n",
    "        return 'Apr'\n",
    "    elif df['Month']==5:\n",
    "        return 'May'\n",
    "    elif df['Month']==6:\n",
    "        return 'Jun'\n",
    "    elif df['Month']==7:\n",
    "        return 'Jul'\n",
    "    elif df['Month']==8:\n",
    "        return 'Aug'\n",
    "    elif df['Month']==9:\n",
    "        return 'Sep'\n",
    "    elif df['Month']==10:\n",
    "        return 'Oct'\n",
    "    elif df['Month']==11:\n",
    "        return 'Nov'\n",
    "    elif df['Month']==12:\n",
    "        return 'Dec'\n",
    "\n",
    "df['month1']=df.apply(date,axis=1)"
   ]
  },
  {
   "cell_type": "code",
   "execution_count": 17,
   "metadata": {},
   "outputs": [],
   "source": [
    "a = np.full(shape = (336,), fill_value = 73.9, dtype = float)\n",
    "b = np.full(shape = (365,), fill_value = 73.3, dtype = float)\n",
    "c = np.full(shape = (281,), fill_value = 72.7, dtype = float)\n",
    "full = np.concatenate([a,b,c])"
   ]
  },
  {
   "cell_type": "code",
   "execution_count": 18,
   "metadata": {},
   "outputs": [],
   "source": [
    "df['budget_line'] = full"
   ]
  },
  {
   "cell_type": "code",
   "execution_count": 19,
   "metadata": {},
   "outputs": [],
   "source": [
    "# Points above target budget line\n",
    "\n",
    "def target(df):\n",
    "    if df['PR']>=df['budget_line']:\n",
    "        return 1\n",
    "    else:\n",
    "        return 0\n",
    "\n",
    "df['points_above']=df.apply(target,axis=1)"
   ]
  },
  {
   "cell_type": "code",
   "execution_count": 20,
   "metadata": {},
   "outputs": [
    {
     "data": {
      "text/html": [
       "<div>\n",
       "<style scoped>\n",
       "    .dataframe tbody tr th:only-of-type {\n",
       "        vertical-align: middle;\n",
       "    }\n",
       "\n",
       "    .dataframe tbody tr th {\n",
       "        vertical-align: top;\n",
       "    }\n",
       "\n",
       "    .dataframe thead th {\n",
       "        text-align: right;\n",
       "    }\n",
       "</style>\n",
       "<table border=\"1\" class=\"dataframe\">\n",
       "  <thead>\n",
       "    <tr style=\"text-align: right;\">\n",
       "      <th></th>\n",
       "      <th>Date</th>\n",
       "      <th>GHI</th>\n",
       "      <th>PR</th>\n",
       "      <th>GHI_bins</th>\n",
       "      <th>PR_30</th>\n",
       "      <th>Year</th>\n",
       "      <th>Month</th>\n",
       "      <th>date</th>\n",
       "      <th>month1</th>\n",
       "      <th>budget_line</th>\n",
       "      <th>points_above</th>\n",
       "    </tr>\n",
       "  </thead>\n",
       "  <tbody>\n",
       "    <tr>\n",
       "      <th>0</th>\n",
       "      <td>2019-07-01</td>\n",
       "      <td>3.256608</td>\n",
       "      <td>69.575676</td>\n",
       "      <td>1</td>\n",
       "      <td>NaN</td>\n",
       "      <td>2019</td>\n",
       "      <td>7</td>\n",
       "      <td>1</td>\n",
       "      <td>Jul</td>\n",
       "      <td>73.9</td>\n",
       "      <td>0</td>\n",
       "    </tr>\n",
       "    <tr>\n",
       "      <th>1</th>\n",
       "      <td>2019-07-02</td>\n",
       "      <td>3.976767</td>\n",
       "      <td>79.314411</td>\n",
       "      <td>1</td>\n",
       "      <td>NaN</td>\n",
       "      <td>2019</td>\n",
       "      <td>7</td>\n",
       "      <td>2</td>\n",
       "      <td>Jul</td>\n",
       "      <td>73.9</td>\n",
       "      <td>1</td>\n",
       "    </tr>\n",
       "    <tr>\n",
       "      <th>2</th>\n",
       "      <td>2019-07-03</td>\n",
       "      <td>2.811867</td>\n",
       "      <td>61.020006</td>\n",
       "      <td>1</td>\n",
       "      <td>NaN</td>\n",
       "      <td>2019</td>\n",
       "      <td>7</td>\n",
       "      <td>3</td>\n",
       "      <td>Jul</td>\n",
       "      <td>73.9</td>\n",
       "      <td>0</td>\n",
       "    </tr>\n",
       "    <tr>\n",
       "      <th>3</th>\n",
       "      <td>2019-07-04</td>\n",
       "      <td>3.658408</td>\n",
       "      <td>83.262576</td>\n",
       "      <td>1</td>\n",
       "      <td>NaN</td>\n",
       "      <td>2019</td>\n",
       "      <td>7</td>\n",
       "      <td>4</td>\n",
       "      <td>Jul</td>\n",
       "      <td>73.9</td>\n",
       "      <td>1</td>\n",
       "    </tr>\n",
       "    <tr>\n",
       "      <th>4</th>\n",
       "      <td>2019-07-05</td>\n",
       "      <td>5.590683</td>\n",
       "      <td>82.124440</td>\n",
       "      <td>2</td>\n",
       "      <td>NaN</td>\n",
       "      <td>2019</td>\n",
       "      <td>7</td>\n",
       "      <td>5</td>\n",
       "      <td>Jul</td>\n",
       "      <td>73.9</td>\n",
       "      <td>1</td>\n",
       "    </tr>\n",
       "  </tbody>\n",
       "</table>\n",
       "</div>"
      ],
      "text/plain": [
       "        Date       GHI         PR  GHI_bins  PR_30  Year  Month  date month1  \\\n",
       "0 2019-07-01  3.256608  69.575676         1    NaN  2019      7     1    Jul   \n",
       "1 2019-07-02  3.976767  79.314411         1    NaN  2019      7     2    Jul   \n",
       "2 2019-07-03  2.811867  61.020006         1    NaN  2019      7     3    Jul   \n",
       "3 2019-07-04  3.658408  83.262576         1    NaN  2019      7     4    Jul   \n",
       "4 2019-07-05  5.590683  82.124440         2    NaN  2019      7     5    Jul   \n",
       "\n",
       "   budget_line  points_above  \n",
       "0         73.9             0  \n",
       "1         73.9             1  \n",
       "2         73.9             0  \n",
       "3         73.9             1  \n",
       "4         73.9             1  "
      ]
     },
     "execution_count": 20,
     "metadata": {},
     "output_type": "execute_result"
    }
   ],
   "source": [
    "df.head()"
   ]
  },
  {
   "cell_type": "code",
   "execution_count": 21,
   "metadata": {},
   "outputs": [],
   "source": [
    "df['date']=df['date'].astype('str')\n",
    "df['Year']=df['Year'].astype('str')\n",
    "df['date1'] = df['date']+'-'+df['month1']+'-'+df['Year']"
   ]
  },
  {
   "cell_type": "code",
   "execution_count": 22,
   "metadata": {},
   "outputs": [
    {
     "data": {
      "text/plain": [
       "0    503\n",
       "1    479\n",
       "Name: points_above, dtype: int64"
      ]
     },
     "execution_count": 22,
     "metadata": {},
     "output_type": "execute_result"
    }
   ],
   "source": [
    "df['points_above'].value_counts()"
   ]
  },
  {
   "cell_type": "code",
   "execution_count": 23,
   "metadata": {},
   "outputs": [],
   "source": [
    "# average pr last 7 day\n",
    "df['PR_7'] = df['PR'].rolling(7).mean()\n",
    "\n",
    "# average pr last 60 day\n",
    "df['PR_60'] = df['PR'].rolling(60).mean()\n",
    "\n",
    "# average pr last 90 day\n",
    "df['PR_90'] = df['PR'].rolling(90).mean()\n",
    "\n",
    "# average pr last 365 day\n",
    "df['PR_365'] = df['PR'].rolling(365).mean()"
   ]
  },
  {
   "cell_type": "code",
   "execution_count": 24,
   "metadata": {},
   "outputs": [
    {
     "data": {
      "text/html": [
       "<div>\n",
       "<style scoped>\n",
       "    .dataframe tbody tr th:only-of-type {\n",
       "        vertical-align: middle;\n",
       "    }\n",
       "\n",
       "    .dataframe tbody tr th {\n",
       "        vertical-align: top;\n",
       "    }\n",
       "\n",
       "    .dataframe thead th {\n",
       "        text-align: right;\n",
       "    }\n",
       "</style>\n",
       "<table border=\"1\" class=\"dataframe\">\n",
       "  <thead>\n",
       "    <tr style=\"text-align: right;\">\n",
       "      <th></th>\n",
       "      <th>Date</th>\n",
       "      <th>GHI</th>\n",
       "      <th>PR</th>\n",
       "      <th>GHI_bins</th>\n",
       "      <th>PR_30</th>\n",
       "      <th>Year</th>\n",
       "      <th>Month</th>\n",
       "      <th>date</th>\n",
       "      <th>month1</th>\n",
       "      <th>budget_line</th>\n",
       "      <th>points_above</th>\n",
       "      <th>date1</th>\n",
       "      <th>PR_7</th>\n",
       "      <th>PR_60</th>\n",
       "      <th>PR_90</th>\n",
       "      <th>PR_365</th>\n",
       "    </tr>\n",
       "  </thead>\n",
       "  <tbody>\n",
       "    <tr>\n",
       "      <th>981</th>\n",
       "      <td>2022-03-08</td>\n",
       "      <td>5.12505</td>\n",
       "      <td>79.911798</td>\n",
       "      <td>2</td>\n",
       "      <td>71.855995</td>\n",
       "      <td>2022</td>\n",
       "      <td>3</td>\n",
       "      <td>8</td>\n",
       "      <td>Mar</td>\n",
       "      <td>72.7</td>\n",
       "      <td>1</td>\n",
       "      <td>8-Mar-2022</td>\n",
       "      <td>73.803662</td>\n",
       "      <td>73.009264</td>\n",
       "      <td>73.050615</td>\n",
       "      <td>72.889515</td>\n",
       "    </tr>\n",
       "  </tbody>\n",
       "</table>\n",
       "</div>"
      ],
      "text/plain": [
       "          Date      GHI         PR  GHI_bins      PR_30  Year  Month date  \\\n",
       "981 2022-03-08  5.12505  79.911798         2  71.855995  2022      3    8   \n",
       "\n",
       "    month1  budget_line  points_above       date1       PR_7      PR_60  \\\n",
       "981    Mar         72.7             1  8-Mar-2022  73.803662  73.009264   \n",
       "\n",
       "         PR_90     PR_365  \n",
       "981  73.050615  72.889515  "
      ]
     },
     "execution_count": 24,
     "metadata": {},
     "output_type": "execute_result"
    }
   ],
   "source": [
    "df.tail(1)"
   ]
  },
  {
   "cell_type": "code",
   "execution_count": 25,
   "metadata": {},
   "outputs": [
    {
     "data": {
      "text/plain": [
       "72.736196847745"
      ]
     },
     "execution_count": 25,
     "metadata": {},
     "output_type": "execute_result"
    }
   ],
   "source": [
    "df['PR'].mean()"
   ]
  },
  {
   "cell_type": "code",
   "execution_count": 26,
   "metadata": {},
   "outputs": [
    {
     "data": {
      "text/html": [
       "<div>\n",
       "<style scoped>\n",
       "    .dataframe tbody tr th:only-of-type {\n",
       "        vertical-align: middle;\n",
       "    }\n",
       "\n",
       "    .dataframe tbody tr th {\n",
       "        vertical-align: top;\n",
       "    }\n",
       "\n",
       "    .dataframe thead th {\n",
       "        text-align: right;\n",
       "    }\n",
       "</style>\n",
       "<table border=\"1\" class=\"dataframe\">\n",
       "  <thead>\n",
       "    <tr style=\"text-align: right;\">\n",
       "      <th></th>\n",
       "      <th>Date</th>\n",
       "      <th>GHI</th>\n",
       "      <th>PR</th>\n",
       "      <th>GHI_bins</th>\n",
       "      <th>PR_30</th>\n",
       "      <th>Year</th>\n",
       "      <th>Month</th>\n",
       "      <th>date</th>\n",
       "      <th>month1</th>\n",
       "      <th>budget_line</th>\n",
       "      <th>points_above</th>\n",
       "      <th>date1</th>\n",
       "      <th>PR_7</th>\n",
       "      <th>PR_60</th>\n",
       "      <th>PR_90</th>\n",
       "      <th>PR_365</th>\n",
       "    </tr>\n",
       "  </thead>\n",
       "  <tbody>\n",
       "    <tr>\n",
       "      <th>0</th>\n",
       "      <td>2019-07-01</td>\n",
       "      <td>3.256608</td>\n",
       "      <td>69.575676</td>\n",
       "      <td>1</td>\n",
       "      <td>NaN</td>\n",
       "      <td>2019</td>\n",
       "      <td>7</td>\n",
       "      <td>1</td>\n",
       "      <td>Jul</td>\n",
       "      <td>73.9</td>\n",
       "      <td>0</td>\n",
       "      <td>1-Jul-2019</td>\n",
       "      <td>NaN</td>\n",
       "      <td>NaN</td>\n",
       "      <td>NaN</td>\n",
       "      <td>NaN</td>\n",
       "    </tr>\n",
       "    <tr>\n",
       "      <th>1</th>\n",
       "      <td>2019-07-02</td>\n",
       "      <td>3.976767</td>\n",
       "      <td>79.314411</td>\n",
       "      <td>1</td>\n",
       "      <td>NaN</td>\n",
       "      <td>2019</td>\n",
       "      <td>7</td>\n",
       "      <td>2</td>\n",
       "      <td>Jul</td>\n",
       "      <td>73.9</td>\n",
       "      <td>1</td>\n",
       "      <td>2-Jul-2019</td>\n",
       "      <td>NaN</td>\n",
       "      <td>NaN</td>\n",
       "      <td>NaN</td>\n",
       "      <td>NaN</td>\n",
       "    </tr>\n",
       "    <tr>\n",
       "      <th>2</th>\n",
       "      <td>2019-07-03</td>\n",
       "      <td>2.811867</td>\n",
       "      <td>61.020006</td>\n",
       "      <td>1</td>\n",
       "      <td>NaN</td>\n",
       "      <td>2019</td>\n",
       "      <td>7</td>\n",
       "      <td>3</td>\n",
       "      <td>Jul</td>\n",
       "      <td>73.9</td>\n",
       "      <td>0</td>\n",
       "      <td>3-Jul-2019</td>\n",
       "      <td>NaN</td>\n",
       "      <td>NaN</td>\n",
       "      <td>NaN</td>\n",
       "      <td>NaN</td>\n",
       "    </tr>\n",
       "    <tr>\n",
       "      <th>3</th>\n",
       "      <td>2019-07-04</td>\n",
       "      <td>3.658408</td>\n",
       "      <td>83.262576</td>\n",
       "      <td>1</td>\n",
       "      <td>NaN</td>\n",
       "      <td>2019</td>\n",
       "      <td>7</td>\n",
       "      <td>4</td>\n",
       "      <td>Jul</td>\n",
       "      <td>73.9</td>\n",
       "      <td>1</td>\n",
       "      <td>4-Jul-2019</td>\n",
       "      <td>NaN</td>\n",
       "      <td>NaN</td>\n",
       "      <td>NaN</td>\n",
       "      <td>NaN</td>\n",
       "    </tr>\n",
       "    <tr>\n",
       "      <th>4</th>\n",
       "      <td>2019-07-05</td>\n",
       "      <td>5.590683</td>\n",
       "      <td>82.124440</td>\n",
       "      <td>2</td>\n",
       "      <td>NaN</td>\n",
       "      <td>2019</td>\n",
       "      <td>7</td>\n",
       "      <td>5</td>\n",
       "      <td>Jul</td>\n",
       "      <td>73.9</td>\n",
       "      <td>1</td>\n",
       "      <td>5-Jul-2019</td>\n",
       "      <td>NaN</td>\n",
       "      <td>NaN</td>\n",
       "      <td>NaN</td>\n",
       "      <td>NaN</td>\n",
       "    </tr>\n",
       "  </tbody>\n",
       "</table>\n",
       "</div>"
      ],
      "text/plain": [
       "        Date       GHI         PR  GHI_bins  PR_30  Year  Month date month1  \\\n",
       "0 2019-07-01  3.256608  69.575676         1    NaN  2019      7    1    Jul   \n",
       "1 2019-07-02  3.976767  79.314411         1    NaN  2019      7    2    Jul   \n",
       "2 2019-07-03  2.811867  61.020006         1    NaN  2019      7    3    Jul   \n",
       "3 2019-07-04  3.658408  83.262576         1    NaN  2019      7    4    Jul   \n",
       "4 2019-07-05  5.590683  82.124440         2    NaN  2019      7    5    Jul   \n",
       "\n",
       "   budget_line  points_above       date1  PR_7  PR_60  PR_90  PR_365  \n",
       "0         73.9             0  1-Jul-2019   NaN    NaN    NaN     NaN  \n",
       "1         73.9             1  2-Jul-2019   NaN    NaN    NaN     NaN  \n",
       "2         73.9             0  3-Jul-2019   NaN    NaN    NaN     NaN  \n",
       "3         73.9             1  4-Jul-2019   NaN    NaN    NaN     NaN  \n",
       "4         73.9             1  5-Jul-2019   NaN    NaN    NaN     NaN  "
      ]
     },
     "execution_count": 26,
     "metadata": {},
     "output_type": "execute_result"
    }
   ],
   "source": [
    "df.head()"
   ]
  },
  {
   "cell_type": "markdown",
   "metadata": {},
   "source": [
    "### 479 points are above budget line"
   ]
  },
  {
   "cell_type": "code",
   "execution_count": 29,
   "metadata": {},
   "outputs": [
    {
     "name": "stderr",
     "output_type": "stream",
     "text": [
      "C:\\Users\\User-1\\Anaconda3\\lib\\site-packages\\seaborn\\_decorators.py:43: FutureWarning: Pass the following variables as keyword args: x, y. From version 0.12, the only valid positional argument will be `data`, and passing other arguments without an explicit keyword will result in an error or misinterpretation.\n",
      "  FutureWarning\n",
      "C:\\Users\\User-1\\Anaconda3\\lib\\site-packages\\seaborn\\_decorators.py:43: FutureWarning: Pass the following variables as keyword args: x, y. From version 0.12, the only valid positional argument will be `data`, and passing other arguments without an explicit keyword will result in an error or misinterpretation.\n",
      "  FutureWarning\n",
      "C:\\Users\\User-1\\Anaconda3\\lib\\site-packages\\seaborn\\_decorators.py:43: FutureWarning: Pass the following variables as keyword args: x, y. From version 0.12, the only valid positional argument will be `data`, and passing other arguments without an explicit keyword will result in an error or misinterpretation.\n",
      "  FutureWarning\n"
     ]
    },
    {
     "data": {
      "image/png": "[encoded data removed]",
      "text/plain": [
       "<Figure size 1080x720 with 1 Axes>"
      ]
     },
     "metadata": {
      "needs_background": "light"
     },
     "output_type": "display_data"
    }
   ],
   "source": [
    "import matplotlib.patches as mpatches\n",
    "green_patch = mpatches.Patch(color='dodgerblue', label='<2')\n",
    "blue_patch = mpatches.Patch(color='blue', label='2~4')\n",
    "orange_patch = mpatches.Patch(color='orange', label='4~6')\n",
    "brown_patch = mpatches.Patch(color='brown', label='>6')\n",
    "\n",
    "#sns.set(rc={'axes.facecolor':'None'})\n",
    "\n",
    "\n",
    "plt.figure(figsize = (15,10))\n",
    "plt.ylim(0,100)\n",
    "sns.scatterplot(df['Date'] , df['PR'] , hue = df['GHI_bins'] , palette = ['dodgerblue','blue','orange','brown'] ,markers = 'd', legend = False)\n",
    "first_legend = plt.legend(handles = [green_patch,blue_patch,orange_patch,brown_patch] , loc = 'upper left' , ncol = 4)\n",
    "first_legend.set_title('Daily Irradiation [KWh/m2]')\n",
    "plt.gca().add_artist(first_legend)\n",
    "\n",
    "\n",
    "green1_patch = mpatches.Patch(color='green', label='Target Budget Yeild Performance Ratio [1Y-73.9% , 2Y-73.3% , 3Y-72.7%]')\n",
    "red1_patch = mpatches.Patch(color='red', label='30-d moving average of PR')\n",
    "black1_patch = mpatches.Patch(color='None', label='Points above Target Budget = 479/982 = 48.77%')\n",
    "second_legend = plt.legend(handles = [green1_patch,red1_patch,black1_patch] , loc = 'center' , ncol = 1)\n",
    "li  = ['green' , 'red' , 'black']\n",
    "for i,text in enumerate(second_legend.get_texts()):\n",
    "    text.set_color(li[i])\n",
    "plt.gca().add_artist(second_legend)\n",
    "\n",
    "\n",
    "patch1 = mpatches.Patch(color='None', label='Average PR last 7-d: 73.80%')\n",
    "patch2= mpatches.Patch(color='None', label='Average PR last 30-d: 71.85%')\n",
    "patch3 = mpatches.Patch(color='None', label='Average PR last 60-d: 73.00%')\n",
    "patch4 = mpatches.Patch(color='None', label='Average PR last 90-d: 73.05%')\n",
    "patch5 = mpatches.Patch(color='None', label='Average PR last 365-d: 72.89%')\n",
    "patch6 = mpatches.Patch(color='None', label='Average PR lifetime: 72.73%')\n",
    "third_legend = plt.legend(handles = [patch1,patch2,patch3,patch4,patch5,patch6] , loc = 'lower right' , ncol = 1)\n",
    "plt.gca().add_artist(third_legend)\n",
    "\n",
    "\n",
    "sns.lineplot(df['Date'] , df['PR_30'] , color = 'red')\n",
    "sns.lineplot(df['Date'] , df['budget_line'] , color = 'green')\n",
    "plt.yticks([0,10,20,30,40,50,60,70,80,90,100,110])\n",
    "#plt.xticks(['Jul/19' , 'Oct/19' , 'Jan/20' , 'Apr/20' , 'Jul/20' , 'Oct/20'])\n",
    "plt.title('Performance Ratio Evaluation From 2019-07-01 to 2022-03-24')\n",
    "plt.ylabel('Performance Ratio [%]')\n",
    "plt.grid()\n",
    "plt.show()"
   ]
  },
  {
   "cell_type": "code",
   "execution_count": null,
   "metadata": {},
   "outputs": [],
   "source": []
  }
 ],
 "metadata": {
  "kernelspec": {
   "display_name": "Python 3",
   "language": "python",
   "name": "python3"
  },
  "language_info": {
   "codemirror_mode": {
    "name": "ipython",
    "version": 3
   },
   "file_extension": ".py",
   "mimetype": "text/x-python",
   "name": "python",
   "nbconvert_exporter": "python",
   "pygments_lexer": "ipython3",
   "version": "3.7.4"
  }
 },
 "nbformat": 4,
 "nbformat_minor": 2
}
